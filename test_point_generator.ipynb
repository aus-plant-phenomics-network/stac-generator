{
    "cells": [
        {
            "cell_type": "code",
            "execution_count": 1,
            "metadata": {},
            "outputs": [],
            "source": [
                "import pandas as pd\n",
                "import pandera as pa\n",
                "from pandera.engines.pandas_engine import PydanticModel\n",
                "from pydantic import BaseModel\n",
                "\n",
                "from stac_generator.base.schema import DataFrameSchema, STACConfig\n",
                "from stac_generator.csv.schema import CSVConfig"
            ]
        },
        {
            "cell_type": "code",
            "execution_count": 2,
            "metadata": {},
            "outputs": [],
            "source": [
                "CSVSchema = DataFrameSchema[CSVConfig]"
            ]
        },
        {
            "cell_type": "code",
            "execution_count": 3,
            "metadata": {},
            "outputs": [],
            "source": [
                "csv_config = pd.DataFrame({\"id\": [\"first_point_data\", \"second_point_data\"], \"location\": [\"./first_data.csv\", \"./second_data.csv\"], \"local\": [\"first_data.csv\", \"second_data.csv\"], \"X\": [\"Longitude\", \"Longitude\"], \"Y\": [\"Latitude\", \"Latitude\"]})"
            ]
        },
        {
            "cell_type": "code",
            "execution_count": 4,
            "metadata": {},
            "outputs": [
                {
                    "data": {
                        "text/html": [
                            "<div>\n",
                            "<style scoped>\n",
                            "    .dataframe tbody tr th:only-of-type {\n",
                            "        vertical-align: middle;\n",
                            "    }\n",
                            "\n",
                            "    .dataframe tbody tr th {\n",
                            "        vertical-align: top;\n",
                            "    }\n",
                            "\n",
                            "    .dataframe thead th {\n",
                            "        text-align: right;\n",
                            "    }\n",
                            "</style>\n",
                            "<table border=\"1\" class=\"dataframe\">\n",
                            "  <thead>\n",
                            "    <tr style=\"text-align: right;\">\n",
                            "      <th></th>\n",
                            "      <th>X</th>\n",
                            "      <th>Y</th>\n",
                            "      <th>datetime</th>\n",
                            "      <th>start_datetime</th>\n",
                            "      <th>end_datetime</th>\n",
                            "      <th>id</th>\n",
                            "      <th>location</th>\n",
                            "      <th>local</th>\n",
                            "    </tr>\n",
                            "  </thead>\n",
                            "  <tbody>\n",
                            "    <tr>\n",
                            "      <th>0</th>\n",
                            "      <td>Longitude</td>\n",
                            "      <td>Latitude</td>\n",
                            "      <td>2024-10-08 06:19:01.572541+00:00</td>\n",
                            "      <td>2024-10-08 06:19:01.572541+00:00</td>\n",
                            "      <td>2024-10-08 06:19:01.572541+00:00</td>\n",
                            "      <td>first_point_data</td>\n",
                            "      <td>./first_data.csv</td>\n",
                            "      <td>first_data.csv</td>\n",
                            "    </tr>\n",
                            "    <tr>\n",
                            "      <th>1</th>\n",
                            "      <td>Longitude</td>\n",
                            "      <td>Latitude</td>\n",
                            "      <td>2024-10-08 06:19:01.572607+00:00</td>\n",
                            "      <td>2024-10-08 06:19:01.572607+00:00</td>\n",
                            "      <td>2024-10-08 06:19:01.572607+00:00</td>\n",
                            "      <td>second_point_data</td>\n",
                            "      <td>./second_data.csv</td>\n",
                            "      <td>second_data.csv</td>\n",
                            "    </tr>\n",
                            "  </tbody>\n",
                            "</table>\n",
                            "</div>"
                        ],
                        "text/plain": [
                            "           X         Y                         datetime  \\\n",
                            "0  Longitude  Latitude 2024-10-08 06:19:01.572541+00:00   \n",
                            "1  Longitude  Latitude 2024-10-08 06:19:01.572607+00:00   \n",
                            "\n",
                            "                    start_datetime                     end_datetime  \\\n",
                            "0 2024-10-08 06:19:01.572541+00:00 2024-10-08 06:19:01.572541+00:00   \n",
                            "1 2024-10-08 06:19:01.572607+00:00 2024-10-08 06:19:01.572607+00:00   \n",
                            "\n",
                            "                  id           location            local  \n",
                            "0   first_point_data   ./first_data.csv   first_data.csv  \n",
                            "1  second_point_data  ./second_data.csv  second_data.csv  "
                        ]
                    },
                    "execution_count": 4,
                    "metadata": {},
                    "output_type": "execute_result"
                }
            ],
            "source": [
                "CSVSchema(csv_config)"
            ]
        },
        {
            "cell_type": "code",
            "execution_count": 8,
            "metadata": {},
            "outputs": [],
            "source": [
                "configs = [CSVConfig(**csv_config.loc[i,:].to_dict()) for i in range(len(csv_config))]"
            ]
        },
        {
            "cell_type": "code",
            "execution_count": 9,
            "metadata": {},
            "outputs": [
                {
                    "data": {
                        "text/plain": [
                            "[CSVConfig(X='Longitude', Y='Latitude', epsg=4326, T=None, column_info=None, groupby=None, date_format='ISO8601', title=None, description=None, datetime=datetime.datetime(2024, 10, 8, 6, 20, 29, 986408, tzinfo=datetime.timezone.utc), created=None, updated=None, start_datetime=datetime.datetime(2024, 10, 8, 6, 20, 29, 986408, tzinfo=datetime.timezone.utc), end_datetime=datetime.datetime(2024, 10, 8, 6, 20, 29, 986408, tzinfo=datetime.timezone.utc), license=None, providers=None, platform=None, instruments=None, constellation=None, mission=None, gsd=None, id='first_point_data', prefix=None, location='./first_data.csv', local='first_data.csv', extension=None, method='GET', params=None, headers=None, cookies=None, content=None, data=None, json_body=None),\n",
                            " CSVConfig(X='Longitude', Y='Latitude', epsg=4326, T=None, column_info=None, groupby=None, date_format='ISO8601', title=None, description=None, datetime=datetime.datetime(2024, 10, 8, 6, 20, 29, 986688, tzinfo=datetime.timezone.utc), created=None, updated=None, start_datetime=datetime.datetime(2024, 10, 8, 6, 20, 29, 986688, tzinfo=datetime.timezone.utc), end_datetime=datetime.datetime(2024, 10, 8, 6, 20, 29, 986688, tzinfo=datetime.timezone.utc), license=None, providers=None, platform=None, instruments=None, constellation=None, mission=None, gsd=None, id='second_point_data', prefix=None, location='./second_data.csv', local='second_data.csv', extension=None, method='GET', params=None, headers=None, cookies=None, content=None, data=None, json_body=None)]"
                        ]
                    },
                    "execution_count": 9,
                    "metadata": {},
                    "output_type": "execute_result"
                }
            ],
            "source": [
                "configs"
            ]
        },
        {
            "cell_type": "code",
            "execution_count": null,
            "metadata": {},
            "outputs": [],
            "source": []
        }
    ],
    "metadata": {
        "kernelspec": {
            "display_name": ".venv",
            "language": "python",
            "name": "python3"
        },
        "language_info": {
            "codemirror_mode": {
                "name": "ipython",
                "version": 3
            },
            "file_extension": ".py",
            "mimetype": "text/x-python",
            "name": "python",
            "nbconvert_exporter": "python",
            "pygments_lexer": "ipython3",
            "version": "3.11.8"
        }
    },
    "nbformat": 4,
    "nbformat_minor": 2
}
