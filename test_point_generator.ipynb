{
  "cells": [
    {
      "cell_type": "code",
      "execution_count": 1,
      "metadata": {},
      "outputs": [],
      "source": [
        "import json\n",
        "\n",
        "import pandas as pd\n",
        "\n",
        "from stac_generator.base.schema import DataFrameSchema\n",
        "from stac_generator.csv.schema import CSVConfig"
      ]
    },
    {
      "cell_type": "code",
      "execution_count": 2,
      "metadata": {},
      "outputs": [],
      "source": [
        "CSVSchema = DataFrameSchema[CSVConfig]"
      ]
    },
    {
      "cell_type": "code",
      "execution_count": 3,
      "metadata": {},
      "outputs": [],
      "source": [
        "csv_config = pd.DataFrame(\n",
        "    {\n",
        "        \"prefix\": [\"first_point_data\", \"second_point_data\"],\n",
        "        \"location\": [\"./first_data.csv\", \"./second_data.csv\"],\n",
        "        \"local\": [\"first_data.csv\", \"second_data.csv\"],\n",
        "        \"X\": [\"Longitude\", \"Longitude\"],\n",
        "        \"Y\": [\"Latitude\", \"Latitude\"],\n",
        "    }\n",
        ")"
      ]
    },
    {
      "cell_type": "code",
      "execution_count": 3,
      "metadata": {},
      "outputs": [],
      "source": [
        "csv_config = pd.read_csv(\"example/csv/config.csv\")"
      ]
    },
    {
      "cell_type": "code",
      "execution_count": 4,
      "metadata": {},
      "outputs": [
        {
          "data": {
            "text/html": [
              "<div>\n",
              "<style scoped>\n",
              "    .dataframe tbody tr th:only-of-type {\n",
              "        vertical-align: middle;\n",
              "    }\n",
              "\n",
              "    .dataframe tbody tr th {\n",
              "        vertical-align: top;\n",
              "    }\n",
              "\n",
              "    .dataframe thead th {\n",
              "        text-align: right;\n",
              "    }\n",
              "</style>\n",
              "<table border=\"1\" class=\"dataframe\">\n",
              "  <thead>\n",
              "    <tr style=\"text-align: right;\">\n",
              "      <th></th>\n",
              "      <th>prefix</th>\n",
              "      <th>location</th>\n",
              "      <th>local</th>\n",
              "      <th>X</th>\n",
              "      <th>Y</th>\n",
              "      <th>epgs</th>\n",
              "      <th>column_info</th>\n",
              "    </tr>\n",
              "  </thead>\n",
              "  <tbody>\n",
              "    <tr>\n",
              "      <th>0</th>\n",
              "      <td>Grandview</td>\n",
              "      <td>./Grandview.csv</td>\n",
              "      <td>example/csv/Grandview.csv</td>\n",
              "      <td>Longitude</td>\n",
              "      <td>Latitude</td>\n",
              "      <td>4326</td>\n",
              "      <td>[{\"name\": \"Ca_Soln\", \"description\": \"Ca concen...</td>\n",
              "    </tr>\n",
              "    <tr>\n",
              "      <th>1</th>\n",
              "      <td>Sunbury</td>\n",
              "      <td>./Sunbury.csv</td>\n",
              "      <td>example/csv/Sunbury.csv</td>\n",
              "      <td>Longitude</td>\n",
              "      <td>Latitude</td>\n",
              "      <td>4326</td>\n",
              "      <td>[{\"name\": \"Ca_Soln\", \"description\": \"Ca concen...</td>\n",
              "    </tr>\n",
              "    <tr>\n",
              "      <th>2</th>\n",
              "      <td>Adelaide_MonteCristo</td>\n",
              "      <td>./Adelaide_MonteCristo.csv</td>\n",
              "      <td>example/csv/Adelaide_MonteCristo.csv</td>\n",
              "      <td>Longitude</td>\n",
              "      <td>Latitude</td>\n",
              "      <td>4326</td>\n",
              "      <td>[{\"name\": \"Ca_Soln\", \"description\": \"Ca concen...</td>\n",
              "    </tr>\n",
              "  </tbody>\n",
              "</table>\n",
              "</div>"
            ],
            "text/plain": [
              "                 prefix                    location  \\\n",
              "0             Grandview             ./Grandview.csv   \n",
              "1               Sunbury               ./Sunbury.csv   \n",
              "2  Adelaide_MonteCristo  ./Adelaide_MonteCristo.csv   \n",
              "\n",
              "                                  local          X         Y  epgs  \\\n",
              "0             example/csv/Grandview.csv  Longitude  Latitude  4326   \n",
              "1               example/csv/Sunbury.csv  Longitude  Latitude  4326   \n",
              "2  example/csv/Adelaide_MonteCristo.csv  Longitude  Latitude  4326   \n",
              "\n",
              "                                         column_info  \n",
              "0  [{\"name\": \"Ca_Soln\", \"description\": \"Ca concen...  \n",
              "1  [{\"name\": \"Ca_Soln\", \"description\": \"Ca concen...  \n",
              "2  [{\"name\": \"Ca_Soln\", \"description\": \"Ca concen...  "
            ]
          },
          "execution_count": 4,
          "metadata": {},
          "output_type": "execute_result"
        }
      ],
      "source": [
        "csv_config"
      ]
    },
    {
      "cell_type": "code",
      "execution_count": 5,
      "metadata": {},
      "outputs": [
        {
          "data": {
            "text/plain": [
              "[{'name': 'Ca_Soln', 'description': 'Ca concentration'}]"
            ]
          },
          "execution_count": 5,
          "metadata": {},
          "output_type": "execute_result"
        }
      ],
      "source": [
        "json.loads(csv_config.column_info[1])"
      ]
    },
    {
      "cell_type": "code",
      "execution_count": null,
      "metadata": {},
      "outputs": [],
      "source": [
        "CSVSchema(csv_config)"
      ]
    },
    {
      "cell_type": "code",
      "execution_count": 7,
      "metadata": {},
      "outputs": [],
      "source": [
        "configs = [CSVConfig(**csv_config.loc[i, :].to_dict()) for i in range(len(csv_config))]"
      ]
    }
  ],
  "metadata": {
    "kernelspec": {
      "display_name": ".venv",
      "language": "python",
      "name": "python3"
    },
    "language_info": {
      "codemirror_mode": {
        "name": "ipython",
        "version": 3
      },
      "file_extension": ".py",
      "mimetype": "text/x-python",
      "name": "python",
      "nbconvert_exporter": "python",
      "pygments_lexer": "ipython3",
      "version": "3.11.8"
    }
  },
  "nbformat": 4,
  "nbformat_minor": 2
}
