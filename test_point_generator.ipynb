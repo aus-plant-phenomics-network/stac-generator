{
  "cells": [
    {
      "cell_type": "code",
      "execution_count": 1,
      "metadata": {},
      "outputs": [],
      "source": [
        "import pandas as pd\n",
        "\n",
        "from stac_generator.base.schema import DataFrameSchema, StacCollectionConfig\n",
        "from stac_generator.csv.generator import CSVGenerator\n",
        "from stac_generator.csv.schema import CSVConfig"
      ]
    },
    {
      "cell_type": "code",
      "execution_count": 2,
      "metadata": {},
      "outputs": [],
      "source": [
        "CSVSchema = DataFrameSchema[CSVConfig]"
      ]
    },
    {
      "cell_type": "code",
      "execution_count": 3,
      "metadata": {},
      "outputs": [],
      "source": [
        "csv_config = pd.read_csv(\"example/csv/source_config.csv\")"
      ]
    },
    {
      "cell_type": "code",
      "execution_count": 4,
      "metadata": {},
      "outputs": [],
      "source": [
        "collection_config = StacCollectionConfig(id=\"soil_data\")"
      ]
    },
    {
      "cell_type": "code",
      "execution_count": 5,
      "metadata": {},
      "outputs": [],
      "source": [
        "generator = CSVGenerator(csv_config, collection_cfg=collection_config)"
      ]
    },
    {
      "cell_type": "code",
      "execution_count": 6,
      "metadata": {},
      "outputs": [
        {
          "ename": "KeyError",
          "evalue": "'geometry'",
          "output_type": "error",
          "traceback": [
            "\u001b[0;31m---------------------------------------------------------------------------\u001b[0m",
            "\u001b[0;31mKeyError\u001b[0m                                  Traceback (most recent call last)",
            "Cell \u001b[0;32mIn[6], line 1\u001b[0m\n\u001b[0;32m----> 1\u001b[0m collection \u001b[38;5;241m=\u001b[39m \u001b[43mgenerator\u001b[49m\u001b[38;5;241;43m.\u001b[39;49m\u001b[43mcreate_collection\u001b[49m\u001b[43m(\u001b[49m\u001b[43m)\u001b[49m\n",
            "File \u001b[0;32m~/WorkProjects/stac-generator/stac_generator/base/generator.py:87\u001b[0m, in \u001b[0;36mStacGenerator.create_collection\u001b[0;34m(self)\u001b[0m\n\u001b[1;32m     85\u001b[0m \u001b[38;5;28;01mdef\u001b[39;00m \u001b[38;5;21mcreate_collection\u001b[39m(\u001b[38;5;28mself\u001b[39m) \u001b[38;5;241m-\u001b[39m\u001b[38;5;241m>\u001b[39m pystac\u001b[38;5;241m.\u001b[39mCollection:\n\u001b[1;32m     86\u001b[0m     items \u001b[38;5;241m=\u001b[39m \u001b[38;5;28mself\u001b[39m\u001b[38;5;241m.\u001b[39mcreate_items()\n\u001b[0;32m---> 87\u001b[0m     \u001b[38;5;28;01mreturn\u001b[39;00m \u001b[38;5;28;43mself\u001b[39;49m\u001b[38;5;241;43m.\u001b[39;49m\u001b[43mcreate_collection_from_items\u001b[49m\u001b[43m(\u001b[49m\u001b[43mitems\u001b[49m\u001b[43m,\u001b[49m\u001b[43m \u001b[49m\u001b[38;5;28;43mself\u001b[39;49m\u001b[38;5;241;43m.\u001b[39;49m\u001b[43mcollection_cfg\u001b[49m\u001b[43m)\u001b[49m\n",
            "File \u001b[0;32m~/WorkProjects/stac-generator/stac_generator/base/generator.py:63\u001b[0m, in \u001b[0;36mStacGenerator.create_collection_from_items\u001b[0;34m(self, items, collection_cfg)\u001b[0m\n\u001b[1;32m     56\u001b[0m \u001b[38;5;28;01mif\u001b[39;00m collection_cfg \u001b[38;5;129;01mis\u001b[39;00m \u001b[38;5;28;01mNone\u001b[39;00m:\n\u001b[1;32m     57\u001b[0m     \u001b[38;5;28;01mraise\u001b[39;00m \u001b[38;5;167;01mValueError\u001b[39;00m(\u001b[38;5;124m\"\u001b[39m\u001b[38;5;124mGenerating collection requires non null collection config\u001b[39m\u001b[38;5;124m\"\u001b[39m)\n\u001b[1;32m     58\u001b[0m collection \u001b[38;5;241m=\u001b[39m pystac\u001b[38;5;241m.\u001b[39mCollection(\n\u001b[1;32m     59\u001b[0m     \u001b[38;5;28mid\u001b[39m\u001b[38;5;241m=\u001b[39mcollection_cfg\u001b[38;5;241m.\u001b[39mid,\n\u001b[1;32m     60\u001b[0m     description\u001b[38;5;241m=\u001b[39m(\n\u001b[1;32m     61\u001b[0m         collection_cfg\u001b[38;5;241m.\u001b[39mdescription \u001b[38;5;28;01mif\u001b[39;00m collection_cfg\u001b[38;5;241m.\u001b[39mdescription \u001b[38;5;28;01melse\u001b[39;00m \u001b[38;5;124mf\u001b[39m\u001b[38;5;124m\"\u001b[39m\u001b[38;5;124mAuto-generated collection \u001b[39m\u001b[38;5;132;01m{\u001b[39;00mcollection_cfg\u001b[38;5;241m.\u001b[39mid\u001b[38;5;132;01m}\u001b[39;00m\u001b[38;5;124m with stac_generator\u001b[39m\u001b[38;5;124m\"\u001b[39m\n\u001b[1;32m     62\u001b[0m     ),\n\u001b[0;32m---> 63\u001b[0m     extent\u001b[38;5;241m=\u001b[39m\u001b[38;5;28;43mself\u001b[39;49m\u001b[38;5;241;43m.\u001b[39;49m\u001b[43mextract_extent\u001b[49m\u001b[43m(\u001b[49m\u001b[43mitems\u001b[49m\u001b[43m,\u001b[49m\u001b[43m \u001b[49m\u001b[43mcollection_cfg\u001b[49m\u001b[43m)\u001b[49m,\n\u001b[1;32m     64\u001b[0m     title\u001b[38;5;241m=\u001b[39mcollection_cfg\u001b[38;5;241m.\u001b[39mtitle,\n\u001b[1;32m     65\u001b[0m     license\u001b[38;5;241m=\u001b[39mcollection_cfg\u001b[38;5;241m.\u001b[39mlicense \u001b[38;5;28;01mif\u001b[39;00m collection_cfg\u001b[38;5;241m.\u001b[39mlicense \u001b[38;5;28;01melse\u001b[39;00m \u001b[38;5;124m\"\u001b[39m\u001b[38;5;124mproprietary\u001b[39m\u001b[38;5;124m\"\u001b[39m,\n\u001b[1;32m     66\u001b[0m     providers\u001b[38;5;241m=\u001b[39m[pystac\u001b[38;5;241m.\u001b[39mProvider\u001b[38;5;241m.\u001b[39mfrom_dict(item\u001b[38;5;241m.\u001b[39mmodel_dump()) \u001b[38;5;28;01mfor\u001b[39;00m item \u001b[38;5;129;01min\u001b[39;00m collection_cfg\u001b[38;5;241m.\u001b[39mproviders] \u001b[38;5;28;01mif\u001b[39;00m collection_cfg\u001b[38;5;241m.\u001b[39mproviders \u001b[38;5;28;01melse\u001b[39;00m \u001b[38;5;28;01mNone\u001b[39;00m,\n\u001b[1;32m     67\u001b[0m )\n\u001b[1;32m     68\u001b[0m collection\u001b[38;5;241m.\u001b[39madd_items(items)\n\u001b[1;32m     69\u001b[0m \u001b[38;5;28;01mreturn\u001b[39;00m collection\n",
            "File \u001b[0;32m~/WorkProjects/stac-generator/stac_generator/base/generator.py:49\u001b[0m, in \u001b[0;36mStacGenerator.extract_extent\u001b[0;34m(self, items, collection_cfg)\u001b[0m\n\u001b[1;32m     48\u001b[0m \u001b[38;5;28;01mdef\u001b[39;00m \u001b[38;5;21mextract_extent\u001b[39m(\u001b[38;5;28mself\u001b[39m, items: \u001b[38;5;28mlist\u001b[39m[pystac\u001b[38;5;241m.\u001b[39mItem], collection_cfg: StacCollectionConfig \u001b[38;5;241m|\u001b[39m \u001b[38;5;28;01mNone\u001b[39;00m \u001b[38;5;241m=\u001b[39m \u001b[38;5;28;01mNone\u001b[39;00m) \u001b[38;5;241m-\u001b[39m\u001b[38;5;241m>\u001b[39m Extent:\n\u001b[0;32m---> 49\u001b[0m     \u001b[38;5;28;01mreturn\u001b[39;00m Extent(\u001b[43mextract_spatial_extent\u001b[49m\u001b[43m(\u001b[49m\u001b[43mitems\u001b[49m\u001b[43m)\u001b[49m, extract_temporal_extent(items, collection_cfg))\n",
            "File \u001b[0;32m~/WorkProjects/stac-generator/stac_generator/base/utils.py:55\u001b[0m, in \u001b[0;36mextract_spatial_extent\u001b[0;34m(items)\u001b[0m\n\u001b[1;32m     53\u001b[0m \u001b[38;5;28;01mfor\u001b[39;00m item \u001b[38;5;129;01min\u001b[39;00m items:\n\u001b[1;32m     54\u001b[0m     \u001b[38;5;28;01mif\u001b[39;00m (geo \u001b[38;5;241m:=\u001b[39m item\u001b[38;5;241m.\u001b[39mgeometry) \u001b[38;5;129;01mis\u001b[39;00m \u001b[38;5;129;01mnot\u001b[39;00m \u001b[38;5;28;01mNone\u001b[39;00m:\n\u001b[0;32m---> 55\u001b[0m         geometries\u001b[38;5;241m.\u001b[39mappend(\u001b[43mcalculate_geometry\u001b[49m\u001b[43m(\u001b[49m\u001b[43mgeo\u001b[49m\u001b[43m)\u001b[49m)\n\u001b[1;32m     56\u001b[0m geo_series \u001b[38;5;241m=\u001b[39m gpd\u001b[38;5;241m.\u001b[39mGeoSeries(data\u001b[38;5;241m=\u001b[39mgeometries)\n\u001b[1;32m     57\u001b[0m bbox \u001b[38;5;241m=\u001b[39m geo_series\u001b[38;5;241m.\u001b[39mtotal_bounds()\n",
            "File \u001b[0;32m~/WorkProjects/stac-generator/stac_generator/csv/utils.py:131\u001b[0m, in \u001b[0;36mcalculate_geometry\u001b[0;34m(df)\u001b[0m\n\u001b[1;32m    118\u001b[0m \u001b[38;5;28;01mdef\u001b[39;00m \u001b[38;5;21mcalculate_geometry\u001b[39m(\n\u001b[1;32m    119\u001b[0m     df: FrameT,\n\u001b[1;32m    120\u001b[0m ) \u001b[38;5;241m-\u001b[39m\u001b[38;5;241m>\u001b[39m Point \u001b[38;5;241m|\u001b[39m MultiPoint:\n\u001b[1;32m    121\u001b[0m \u001b[38;5;250m    \u001b[39m\u001b[38;5;124;03m\"\"\"Calculate the geometry from geopandas dataframe.\u001b[39;00m\n\u001b[1;32m    122\u001b[0m \n\u001b[1;32m    123\u001b[0m \u001b[38;5;124;03m    Returns a `shapely.Point` or `shapely.MultiPoint` depending on the number\u001b[39;00m\n\u001b[0;32m   (...)\u001b[0m\n\u001b[1;32m    129\u001b[0m \u001b[38;5;124;03m    :rtype: Point | MultiPoint\u001b[39;00m\n\u001b[1;32m    130\u001b[0m \u001b[38;5;124;03m    \"\"\"\u001b[39;00m\n\u001b[0;32m--> 131\u001b[0m     points: Sequence[Point] \u001b[38;5;241m=\u001b[39m \u001b[43mdf\u001b[49m\u001b[43m[\u001b[49m\u001b[38;5;124;43m\"\u001b[39;49m\u001b[38;5;124;43mgeometry\u001b[39;49m\u001b[38;5;124;43m\"\u001b[39;49m\u001b[43m]\u001b[49m\u001b[38;5;241m.\u001b[39munique()\n\u001b[1;32m    132\u001b[0m     \u001b[38;5;28;01mif\u001b[39;00m \u001b[38;5;28mlen\u001b[39m(points) \u001b[38;5;241m==\u001b[39m \u001b[38;5;241m1\u001b[39m:\n\u001b[1;32m    133\u001b[0m         \u001b[38;5;28;01mreturn\u001b[39;00m points[\u001b[38;5;241m0\u001b[39m]\n",
            "\u001b[0;31mKeyError\u001b[0m: 'geometry'"
          ]
        }
      ],
      "source": [
        "collection = generator.create_collection()"
      ]
    },
    {
      "cell_type": "code",
      "execution_count": null,
      "metadata": {},
      "outputs": [],
      "source": []
    }
  ],
  "metadata": {
    "kernelspec": {
      "display_name": ".venv",
      "language": "python",
      "name": "python3"
    },
    "language_info": {
      "codemirror_mode": {
        "name": "ipython",
        "version": 3
      },
      "file_extension": ".py",
      "mimetype": "text/x-python",
      "name": "python",
      "nbconvert_exporter": "python",
      "pygments_lexer": "ipython3",
      "version": "3.11.8"
    }
  },
  "nbformat": 4,
  "nbformat_minor": 2
}
