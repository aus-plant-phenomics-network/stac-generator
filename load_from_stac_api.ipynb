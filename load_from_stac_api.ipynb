{
 "cells": [
  {
   "cell_type": "code",
   "id": "9335cb61-53ee-4b8b-9fab-5a9fb8c2fc6f",
   "metadata": {},
   "source": [
    "import time\n",
    "import matplotlib\n",
    "import pystac_client\n",
    "from odc.geo.geobox import GeoBox\n",
    "from odc.stac import stac_load\n",
    "from IPython.display import display\n",
    "\n",
    "client = pystac_client.Client.open()"
   ],
   "outputs": [],
   "execution_count": null
  },
  {
   "cell_type": "code",
   "id": "ba753ed8-9847-46f1-ad6e-269f99471637",
   "metadata": {},
   "source": [
    "#col_id = \"waite_oval_band_order\"\n",
    "col_id = \"gryfn_test_waite\"\n",
    "query = client.search(collections=[col_id])   # , crs=, spatial=, time=, )\n",
    "items = query.items()\n",
    "tic = time.perf_counter()\n",
    "xx = stac_load(items, groupby=None)  # , groupby=\"id\")\n",
    "toc = time.perf_counter()\n",
    "print(f\"Loaded tif with stac_load in {toc - tic:0.4f} seconds\")\n",
    "# 13 million"
   ],
   "outputs": [],
   "execution_count": null
  },
  {
   "cell_type": "code",
   "id": "fa66a2a4-577d-432c-9b41-efb15e788621",
   "metadata": {
    "editable": true,
    "slideshow": {
     "slide_type": ""
    },
    "tags": []
   },
   "source": [
    "#col_id = \"waite_oval_band_order\"\n",
    "# col_id = \"waite_oval_lidar\"\n",
    "col_id = \"uq_gilbert\"\n",
    "query = client.search(collections=[col_id])   # , crs=, spatial=, time=, )\n",
    "items = query.items()\n",
    "tic = time.perf_counter()\n",
    "xx = stac_load(items, groupby=None)  # , groupby=\"id\")\n",
    "toc = time.perf_counter()\n",
    "print(f\"Loaded tif with stac_load in {toc - tic:0.4f} seconds\")\n",
    "# 256 million x7 pixels"
   ],
   "outputs": [],
   "execution_count": null
  },
  {
   "cell_type": "code",
   "id": "a107d58a-f202-49fa-853b-e11a754a25aa",
   "metadata": {},
   "source": [
    "col_id = \"uq_gilbert\"\n",
    "query = client.search(collections=[col_id])   # , crs=, spatial=, time=, )\n",
    "items = query.items()\n",
    "tic = time.perf_counter()\n",
    "xx = stac_load(items, bands=['red'], groupby=None)  # , groupby=\"id\")\n",
    "toc = time.perf_counter()\n",
    "print(f\"Loaded tif with stac_load in {toc - tic:0.4f} seconds\")\n",
    "# 256 million pixels"
   ],
   "outputs": [],
   "execution_count": null
  },
  {
   "cell_type": "code",
   "id": "3cb26b86-fdc1-452d-b77f-d5735322bd95",
   "metadata": {
    "scrolled": true
   },
   "source": [
    "xx  # .groupby(xx.latitude).mean().blue.mean()"
   ],
   "outputs": [],
   "execution_count": null
  },
  {
   "cell_type": "code",
   "id": "a3e66a4a-223d-4219-8533-add4e4156102",
   "metadata": {},
   "source": [
    "_ = (    xx.isel(time=0)\n",
    "    .to_array(\"band\")\n",
    "    .plot.imshow(\n",
    "        col=\"band\",\n",
    "        size=5,\n",
    "        vmin=0,\n",
    "        vmax=65000,\n",
    "    )\n",
    ")\n",
    "# _ = (    xx.isel(time=1)\n",
    "#     .to_array(\"band\")\n",
    "#     .plot.imshow(\n",
    "#         col=\"band\",\n",
    "#         size=5,\n",
    "#         vmin=0,\n",
    "#         vmax=255,\n",
    "#     )\n",
    "# )"
   ],
   "outputs": [],
   "execution_count": null
  },
  {
   "cell_type": "code",
   "id": "f9b5c056-8a2a-4138-9d34-7424ef658ced",
   "metadata": {},
   "source": [
    "xx.isel(time=1).odc.explore()"
   ],
   "outputs": [],
   "execution_count": null
  },
  {
   "cell_type": "code",
   "id": "3345963c-6c0d-42ee-9e44-615f722853c9",
   "metadata": {},
   "source": [
    "# col_id = \"waite_oval_lidar\"\n",
    "col_id = \"waite_oval_lidar_only\"\n",
    "query = client.search(collections=[col_id])\n",
    "items = query.items()\n",
    "xx = stac_load(items, groupby=\"id\")"
   ],
   "outputs": [],
   "execution_count": null
  },
  {
   "cell_type": "code",
   "id": "3d41a0b0-423e-4530-bfc9-410affd3b62e",
   "metadata": {},
   "source": [
    "display(xx)"
   ],
   "outputs": [],
   "execution_count": null
  },
  {
   "cell_type": "code",
   "id": "9cda5c4a-1df7-49b5-bece-bbdef0fde98b",
   "metadata": {},
   "source": [
    "_ = (    xx.isel(time=0)\n",
    "    .to_array(\"band\")\n",
    "    .plot.imshow(\n",
    "        col=\"band\",\n",
    "        size=8,\n",
    "        vmin=90,\n",
    "        vmax=93,\n",
    "    )\n",
    ")\n",
    "# _ = (    xx.isel(time=1)\n",
    "#     .to_array(\"band\")\n",
    "#     .plot.imshow(\n",
    "#         col=\"band\",\n",
    "#         size=8,\n",
    "#         vmin=0,\n",
    "#         vmax=255,\n",
    "#     )\n",
    "# )\n",
    "# _ = (    xx.isel(time=2)\n",
    "#     .to_array(\"band\")\n",
    "#     .plot.imshow(\n",
    "#         col=\"band\",\n",
    "#         size=8,\n",
    "#         vmin=0,\n",
    "#         vmax=255,\n",
    "#     )\n",
    "# )"
   ],
   "outputs": [],
   "execution_count": null
  },
  {
   "cell_type": "code",
   "id": "4ecc5fef-d930-4ea7-8214-cb7f4c6f44d3",
   "metadata": {},
   "source": [
    "xx.isel(time=0).odc.geobox"
   ],
   "outputs": [],
   "execution_count": null
  },
  {
   "cell_type": "code",
   "id": "f3fac8e6-48d0-49b7-bd2e-56b0cd54e10f",
   "metadata": {},
   "source": [],
   "outputs": [],
   "execution_count": null
  }
 ],
 "metadata": {
  "kernelspec": {
   "display_name": "Python 3 (ipykernel)",
   "language": "python",
   "name": "python3"
  },
  "language_info": {
   "codemirror_mode": {
    "name": "ipython",
    "version": 3
   },
   "file_extension": ".py",
   "mimetype": "text/x-python",
   "name": "python",
   "nbconvert_exporter": "python",
   "pygments_lexer": "ipython3",
   "version": "3.12.2"
  }
 },
 "nbformat": 4,
 "nbformat_minor": 5
}
