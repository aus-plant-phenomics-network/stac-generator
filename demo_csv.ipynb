{
 "cells": [
  {
   "cell_type": "code",
   "execution_count": 1,
   "metadata": {},
   "outputs": [],
   "source": [
    "from stac_generator.base.schema import StacCatalogConfig, StacCollectionConfig\n",
    "from stac_generator.generator_factory import StacGeneratorFactory"
   ]
  },
  {
   "cell_type": "code",
   "execution_count": 2,
   "metadata": {},
   "outputs": [],
   "source": [
    "collection_config = StacCollectionConfig(id=\"soil_data_collection\", title=\"soil_data_collection\")\n",
    "catalog_config = StacCatalogConfig(id=\"soil_data_catalog\", title=\"soil data catalog\")"
   ]
  },
  {
   "cell_type": "code",
   "execution_count": 3,
   "metadata": {},
   "outputs": [],
   "source": [
    "generator = StacGeneratorFactory.get_stac_generator(\n",
    "    \"csv\",\n",
    "    \"example/csv/source_config.csv\",\n",
    "    collection_cfg=collection_config,\n",
    "    catalog_cfg=catalog_config,\n",
    ")"
   ]
  },
  {
   "cell_type": "code",
   "execution_count": 5,
   "metadata": {},
   "outputs": [
    {
     "data": {
      "text/plain": [
       "[CsvConfig(X='Longitude', Y='Latitude', epsg=4326, T=None, column_info=[{'name': 'Ca_Soln', 'description': 'Ca concentration'}, {'name': 'pH', 'description': 'soil pH'}], groupby=None, date_format='ISO8601', title=None, description='Auto-generated Stac Item', datetime=datetime.datetime(2024, 10, 9, 23, 28, 8, 810932, tzinfo=datetime.timezone.utc), created=None, updated=None, start_datetime=datetime.datetime(2024, 10, 9, 23, 28, 8, 810932, tzinfo=datetime.timezone.utc), end_datetime=datetime.datetime(2024, 10, 9, 23, 28, 8, 810932, tzinfo=datetime.timezone.utc), license=None, providers=None, platform=None, instruments=None, constellation=None, mission=None, gsd=None, prefix='Grandview', location='./example/csv/Grandview.csv', local='example/csv/Grandview.csv', extension=None, method='GET', params=None, headers=None, cookies=None, content=None, data=None, json_body=None),\n",
       " CsvConfig(X='Longitude', Y='Latitude', epsg=4326, T=None, column_info=[{'name': 'Ca_Soln', 'description': 'Ca concentration'}], groupby=None, date_format='ISO8601', title=None, description='Auto-generated Stac Item', datetime=datetime.datetime(2024, 10, 9, 23, 28, 8, 811077, tzinfo=datetime.timezone.utc), created=None, updated=None, start_datetime=datetime.datetime(2024, 10, 9, 23, 28, 8, 811077, tzinfo=datetime.timezone.utc), end_datetime=datetime.datetime(2024, 10, 9, 23, 28, 8, 811077, tzinfo=datetime.timezone.utc), license=None, providers=None, platform=None, instruments=None, constellation=None, mission=None, gsd=None, prefix='Sunbury', location='./example/csv/Sunbury.csv', local='example/csv/Sunbury.csv', extension=None, method='GET', params=None, headers=None, cookies=None, content=None, data=None, json_body=None),\n",
       " CsvConfig(X='Longitude', Y='Latitude', epsg=4326, T=None, column_info=[{'name': 'Ca_Soln', 'description': 'Ca concentration'}], groupby=None, date_format='ISO8601', title=None, description='Auto-generated Stac Item', datetime=datetime.datetime(2024, 10, 9, 23, 28, 8, 811172, tzinfo=datetime.timezone.utc), created=None, updated=None, start_datetime=datetime.datetime(2024, 10, 9, 23, 28, 8, 811172, tzinfo=datetime.timezone.utc), end_datetime=datetime.datetime(2024, 10, 9, 23, 28, 8, 811172, tzinfo=datetime.timezone.utc), license=None, providers=None, platform=None, instruments=None, constellation=None, mission=None, gsd=None, prefix='Adelaide_MonteCristo', location='./example/csv/Adelaide_MonteCristo.csv', local='example/csv/Adelaide_MonteCristo.csv', extension=None, method='GET', params=None, headers=None, cookies=None, content=None, data=None, json_body=None)]"
      ]
     },
     "execution_count": 5,
     "metadata": {},
     "output_type": "execute_result"
    }
   ],
   "source": [
    "generator.configs"
   ]
  },
  {
   "cell_type": "code",
   "execution_count": 6,
   "metadata": {},
   "outputs": [],
   "source": [
    "catalog = generator.create_catalog()"
   ]
  },
  {
   "cell_type": "code",
   "execution_count": 7,
   "metadata": {},
   "outputs": [],
   "source": [
    "catalog.normalize_and_save(\"example/csv/generated\")"
   ]
  },
  {
   "cell_type": "code",
   "execution_count": null,
   "metadata": {},
   "outputs": [],
   "source": []
  }
 ],
 "metadata": {
  "kernelspec": {
   "display_name": ".venv",
   "language": "python",
   "name": "python3"
  },
  "language_info": {
   "codemirror_mode": {
    "name": "ipython",
    "version": 3
   },
   "file_extension": ".py",
   "mimetype": "text/x-python",
   "name": "python",
   "nbconvert_exporter": "python",
   "pygments_lexer": "ipython3",
   "version": "3.11.8"
  }
 },
 "nbformat": 4,
 "nbformat_minor": 2
}
