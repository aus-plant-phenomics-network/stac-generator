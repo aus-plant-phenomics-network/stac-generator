{
 "cells": [
  {
   "cell_type": "code",
   "execution_count": 18,
   "metadata": {},
   "outputs": [],
   "source": [
    "from stac_generator.point_stac_generator import read_csv, calculate_spatial_extent\n",
    "import geopandas as gpd \n",
    "\n",
    "csv_path = \"soilPointDataAllSites_4ML.csv\"\n",
    "X_coord = \"Northings_UTM\"\n",
    "Y_coord = \"Eastings_UTM\""
   ]
  },
  {
   "cell_type": "code",
   "execution_count": 19,
   "metadata": {},
   "outputs": [],
   "source": [
    "df = read_csv(csv_path, X_coord, Y_coord)"
   ]
  },
  {
   "cell_type": "code",
   "execution_count": 20,
   "metadata": {},
   "outputs": [],
   "source": [
    "gdf = gpd.GeoDataFrame(df, geometry=gpd.points_from_xy(df[X_coord], df[Y_coord]))"
   ]
  },
  {
   "cell_type": "code",
   "execution_count": 25,
   "metadata": {},
   "outputs": [
    {
     "data": {
      "text/plain": [
       "<GeometryArray>\n",
       "[<POINT (7305948.029 251131.249)>, <POINT (7305904.858 251469.788)>,\n",
       " <POINT (7305845.772 251938.497)>, <POINT (7305994.936 251525.212)>,\n",
       "  <POINT (7306123.34 251272.499)>,  <POINT (7306078.639 251626.41)>,\n",
       " <POINT (7306052.179 251834.994)>, <POINT (7306206.481 251764.309)>,\n",
       " <POINT (7306175.374 252011.033)>, <POINT (7306302.681 251580.843)>,\n",
       " <POINT (7306346.782 251804.871)>, <POINT (7306392.293 252020.691)>,\n",
       " <POINT (6784411.623 771915.683)>, <POINT (6784186.859 773210.364)>,\n",
       " <POINT (6784331.466 772378.222)>, <POINT (6784483.659 772415.364)>,\n",
       " <POINT (6784286.457 773550.714)>, <POINT (6784477.598 773264.988)>,\n",
       "   <POINT (6784573.73 772715.51)>, <POINT (6784857.861 772607.586)>,\n",
       " <POINT (6784678.619 773640.437)>, <POINT (6785014.704 772825.502)>,\n",
       "  <POINT (6878036.208 234860.66)>, <POINT (6877982.881 235224.478)>,\n",
       " <POINT (6878378.129 235397.393)>, <POINT (6878430.692 235036.224)>,\n",
       "  <POINT (6878753.463 235262.93)>, <POINT (6879080.457 235016.595)>,\n",
       " <POINT (6879351.503 236040.179)>, <POINT (6879478.951 235171.882)>,\n",
       " <POINT (6879759.686 235457.113)>,  <POINT (6879657.953 236154.65)>]\n",
       "Length: 32, dtype: geometry"
      ]
     },
     "execution_count": 25,
     "metadata": {},
     "output_type": "execute_result"
    }
   ],
   "source": [
    "gdf.geometry.unique()"
   ]
  },
  {
   "cell_type": "code",
   "execution_count": 29,
   "metadata": {},
   "outputs": [
    {
     "data": {
      "text/plain": [
       "shapely.geometry.point.Point"
      ]
     },
     "execution_count": 29,
     "metadata": {},
     "output_type": "execute_result"
    }
   ],
   "source": [
    "type(gdf.geometry.unique()[0])"
   ]
  },
  {
   "cell_type": "code",
   "execution_count": 30,
   "metadata": {},
   "outputs": [],
   "source": [
    "from shapely import MultiPoint "
   ]
  },
  {
   "cell_type": "code",
   "execution_count": 31,
   "metadata": {},
   "outputs": [],
   "source": [
    "points = gdf.geometry.unique()"
   ]
  },
  {
   "cell_type": "code",
   "execution_count": 33,
   "metadata": {},
   "outputs": [],
   "source": [
    "mp = MultiPoint([[p.x, p.y] for p in points])"
   ]
  },
  {
   "cell_type": "code",
   "execution_count": 34,
   "metadata": {},
   "outputs": [
    {
     "data": {
      "image/svg+xml": [
       "<svg xmlns=\"http://www.w3.org/2000/svg\" xmlns:xlink=\"http://www.w3.org/1999/xlink\" width=\"300\" height=\"300\" viewBox=\"6762635.667928 213309.46892800002 565307.8161439998 581882.158944\" preserveAspectRatio=\"xMinYMin meet\"><g transform=\"matrix(1,0,0,-1,0,1008501.0967999999)\"><g><circle cx=\"7305948.029\" cy=\"251131.2488\" r=\"5818.82158944\" stroke=\"#555555\" stroke-width=\"1939.60719648\" fill=\"#66cc99\" opacity=\"0.6\" /><circle cx=\"7305904.858\" cy=\"251469.788\" r=\"5818.82158944\" stroke=\"#555555\" stroke-width=\"1939.60719648\" fill=\"#66cc99\" opacity=\"0.6\" /><circle cx=\"7305845.772\" cy=\"251938.497\" r=\"5818.82158944\" stroke=\"#555555\" stroke-width=\"1939.60719648\" fill=\"#66cc99\" opacity=\"0.6\" /><circle cx=\"7305994.936\" cy=\"251525.2124\" r=\"5818.82158944\" stroke=\"#555555\" stroke-width=\"1939.60719648\" fill=\"#66cc99\" opacity=\"0.6\" /><circle cx=\"7306123.34\" cy=\"251272.4994\" r=\"5818.82158944\" stroke=\"#555555\" stroke-width=\"1939.60719648\" fill=\"#66cc99\" opacity=\"0.6\" /><circle cx=\"7306078.639\" cy=\"251626.4099\" r=\"5818.82158944\" stroke=\"#555555\" stroke-width=\"1939.60719648\" fill=\"#66cc99\" opacity=\"0.6\" /><circle cx=\"7306052.179\" cy=\"251834.9944\" r=\"5818.82158944\" stroke=\"#555555\" stroke-width=\"1939.60719648\" fill=\"#66cc99\" opacity=\"0.6\" /><circle cx=\"7306206.481\" cy=\"251764.309\" r=\"5818.82158944\" stroke=\"#555555\" stroke-width=\"1939.60719648\" fill=\"#66cc99\" opacity=\"0.6\" /><circle cx=\"7306175.374\" cy=\"252011.0332\" r=\"5818.82158944\" stroke=\"#555555\" stroke-width=\"1939.60719648\" fill=\"#66cc99\" opacity=\"0.6\" /><circle cx=\"7306302.681\" cy=\"251580.8433\" r=\"5818.82158944\" stroke=\"#555555\" stroke-width=\"1939.60719648\" fill=\"#66cc99\" opacity=\"0.6\" /><circle cx=\"7306346.782\" cy=\"251804.8711\" r=\"5818.82158944\" stroke=\"#555555\" stroke-width=\"1939.60719648\" fill=\"#66cc99\" opacity=\"0.6\" /><circle cx=\"7306392.293\" cy=\"252020.6908\" r=\"5818.82158944\" stroke=\"#555555\" stroke-width=\"1939.60719648\" fill=\"#66cc99\" opacity=\"0.6\" /><circle cx=\"6784411.623\" cy=\"771915.6831\" r=\"5818.82158944\" stroke=\"#555555\" stroke-width=\"1939.60719648\" fill=\"#66cc99\" opacity=\"0.6\" /><circle cx=\"6784186.859\" cy=\"773210.3643\" r=\"5818.82158944\" stroke=\"#555555\" stroke-width=\"1939.60719648\" fill=\"#66cc99\" opacity=\"0.6\" /><circle cx=\"6784331.466\" cy=\"772378.2219\" r=\"5818.82158944\" stroke=\"#555555\" stroke-width=\"1939.60719648\" fill=\"#66cc99\" opacity=\"0.6\" /><circle cx=\"6784483.659\" cy=\"772415.3644\" r=\"5818.82158944\" stroke=\"#555555\" stroke-width=\"1939.60719648\" fill=\"#66cc99\" opacity=\"0.6\" /><circle cx=\"6784286.457\" cy=\"773550.7145\" r=\"5818.82158944\" stroke=\"#555555\" stroke-width=\"1939.60719648\" fill=\"#66cc99\" opacity=\"0.6\" /><circle cx=\"6784477.598\" cy=\"773264.9877\" r=\"5818.82158944\" stroke=\"#555555\" stroke-width=\"1939.60719648\" fill=\"#66cc99\" opacity=\"0.6\" /><circle cx=\"6784573.73\" cy=\"772715.51\" r=\"5818.82158944\" stroke=\"#555555\" stroke-width=\"1939.60719648\" fill=\"#66cc99\" opacity=\"0.6\" /><circle cx=\"6784857.861\" cy=\"772607.5859\" r=\"5818.82158944\" stroke=\"#555555\" stroke-width=\"1939.60719648\" fill=\"#66cc99\" opacity=\"0.6\" /><circle cx=\"6784678.619\" cy=\"773640.4368\" r=\"5818.82158944\" stroke=\"#555555\" stroke-width=\"1939.60719648\" fill=\"#66cc99\" opacity=\"0.6\" /><circle cx=\"6785014.704\" cy=\"772825.5018\" r=\"5818.82158944\" stroke=\"#555555\" stroke-width=\"1939.60719648\" fill=\"#66cc99\" opacity=\"0.6\" /><circle cx=\"6878036.208\" cy=\"234860.66\" r=\"5818.82158944\" stroke=\"#555555\" stroke-width=\"1939.60719648\" fill=\"#66cc99\" opacity=\"0.6\" /><circle cx=\"6877982.881\" cy=\"235224.478\" r=\"5818.82158944\" stroke=\"#555555\" stroke-width=\"1939.60719648\" fill=\"#66cc99\" opacity=\"0.6\" /><circle cx=\"6878378.129\" cy=\"235397.393\" r=\"5818.82158944\" stroke=\"#555555\" stroke-width=\"1939.60719648\" fill=\"#66cc99\" opacity=\"0.6\" /><circle cx=\"6878430.692\" cy=\"235036.224\" r=\"5818.82158944\" stroke=\"#555555\" stroke-width=\"1939.60719648\" fill=\"#66cc99\" opacity=\"0.6\" /><circle cx=\"6878753.463\" cy=\"235262.93\" r=\"5818.82158944\" stroke=\"#555555\" stroke-width=\"1939.60719648\" fill=\"#66cc99\" opacity=\"0.6\" /><circle cx=\"6879080.457\" cy=\"235016.595\" r=\"5818.82158944\" stroke=\"#555555\" stroke-width=\"1939.60719648\" fill=\"#66cc99\" opacity=\"0.6\" /><circle cx=\"6879351.503\" cy=\"236040.179\" r=\"5818.82158944\" stroke=\"#555555\" stroke-width=\"1939.60719648\" fill=\"#66cc99\" opacity=\"0.6\" /><circle cx=\"6879478.951\" cy=\"235171.882\" r=\"5818.82158944\" stroke=\"#555555\" stroke-width=\"1939.60719648\" fill=\"#66cc99\" opacity=\"0.6\" /><circle cx=\"6879759.686\" cy=\"235457.113\" r=\"5818.82158944\" stroke=\"#555555\" stroke-width=\"1939.60719648\" fill=\"#66cc99\" opacity=\"0.6\" /><circle cx=\"6879657.953\" cy=\"236154.65\" r=\"5818.82158944\" stroke=\"#555555\" stroke-width=\"1939.60719648\" fill=\"#66cc99\" opacity=\"0.6\" /></g></g></svg>"
      ],
      "text/plain": [
       "<MULTIPOINT (7305948.029 251131.249, 7305904.858 251469.788, 7305845.772 251...>"
      ]
     },
     "execution_count": 34,
     "metadata": {},
     "output_type": "execute_result"
    }
   ],
   "source": [
    "mp"
   ]
  },
  {
   "cell_type": "code",
   "execution_count": 1,
   "metadata": {},
   "outputs": [],
   "source": [
    "from pyproj import Transformer, CRS "
   ]
  },
  {
   "cell_type": "code",
   "execution_count": 2,
   "metadata": {},
   "outputs": [],
   "source": [
    "transformer = Transformer.from_crs(\"epsg:28356\", \"epsg:4326\")"
   ]
  },
  {
   "cell_type": "code",
   "execution_count": 6,
   "metadata": {},
   "outputs": [
    {
     "data": {
      "text/plain": [
       "(-27.563247768761816, 152.33294419142834)"
      ]
     },
     "execution_count": 6,
     "metadata": {},
     "output_type": "execute_result"
    }
   ],
   "source": [
    "transformer.transform(434150, 6951000)"
   ]
  },
  {
   "cell_type": "code",
   "execution_count": null,
   "metadata": {},
   "outputs": [],
   "source": []
  }
 ],
 "metadata": {
  "kernelspec": {
   "display_name": ".venv",
   "language": "python",
   "name": "python3"
  },
  "language_info": {
   "codemirror_mode": {
    "name": "ipython",
    "version": 3
   },
   "file_extension": ".py",
   "mimetype": "text/x-python",
   "name": "python",
   "nbconvert_exporter": "python",
   "pygments_lexer": "ipython3",
   "version": "3.11.7"
  }
 },
 "nbformat": 4,
 "nbformat_minor": 2
}
